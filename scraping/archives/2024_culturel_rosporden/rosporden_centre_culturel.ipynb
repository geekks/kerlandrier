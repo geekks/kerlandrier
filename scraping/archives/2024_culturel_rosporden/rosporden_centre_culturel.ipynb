{
 "cells": [
  {
   "cell_type": "code",
   "execution_count": 1,
   "id": "be4a944b-de60-4a44-831f-1f3c51ee617a",
   "metadata": {},
   "outputs": [],
   "source": [
    "# Move to local script path to avoid problem during librairies loading"
   ]
  },
  {
   "cell_type": "code",
   "execution_count": 2,
   "id": "b12f6b76-9929-48ca-8cf4-01992b6f175d",
   "metadata": {},
   "outputs": [
    {
     "name": "stdout",
     "output_type": "stream",
     "text": [
      "/var/www/Kerlandrier/scraping/2024_culturel_rosporden\n"
     ]
    }
   ],
   "source": [
    "cd ."
   ]
  },
  {
   "cell_type": "code",
   "execution_count": 3,
   "id": "1b7616c5-2300-4d41-801d-18d2f7839603",
   "metadata": {},
   "outputs": [],
   "source": [
    "import sys\n",
    "import os\n",
    "import git\n",
    "import pandas as pd\n",
    "\n",
    "# Ajoute le dossier \"ressources\" au sys.path\n",
    "git_root = git.Repo(search_parent_directories=True).working_tree_dir\n",
    "sys.path.insert(0,   os.path.abspath(  os.path.join(  git_root,'resources/python' ) ) )\n",
    "\n",
    "from utils import *\n",
    "from scraping_utils import *\n",
    "from HttpRequests import *\n",
    "from getAaLocation import get_or_create_oa_location\n",
    "from slugify import slugify"
   ]
  },
  {
   "cell_type": "code",
   "execution_count": 4,
   "id": "f2a57a4d",
   "metadata": {},
   "outputs": [],
   "source": [
    "access_token = retrieve_access_token(secret_key)"
   ]
  },
  {
   "cell_type": "code",
   "execution_count": 5,
   "id": "fcb9bf5c-d3b2-481f-ab38-118e19b97c97",
   "metadata": {},
   "outputs": [],
   "source": [
    "agenda_URL= \"https://centreculturelrosporden.bzh/categorie-spectacle/saison/\"\n",
    "JsonFolder= git_root + \"/scraping/2024_culturel_rosporden/\"\n",
    "JsonName = \"eventsURL_centre_culturel.json\"\n",
    "columnUrlName=\"UrlEvent\"        # Nom de la clé contenant les URL des events\n",
    "# locale.setlocale(locale.LC_ALL, 'fr_FR.UTF-8')\n",
    "# DEFAULT_TIME_START = \"20:00:00\"\n",
    "# DEFAULT_TIME_END = \"22:00:00\""
   ]
  },
  {
   "cell_type": "code",
   "execution_count": 6,
   "id": "f6abb0fd",
   "metadata": {},
   "outputs": [],
   "source": [
    "html_doc = requests.get(agenda_URL, timeout=getTimeout).text\n",
    "parsed_html = BeautifulSoup(html_doc, features=\"lxml\")"
   ]
  },
  {
   "cell_type": "code",
   "execution_count": 7,
   "id": "9ee89e27",
   "metadata": {},
   "outputs": [],
   "source": [
    "# Selector pour le l'URL de chaque Event\n",
    "selector=\".col-md-4.col-md-offset-0 div a\"\n",
    "extractedALinks = parsed_html.select(selector)"
   ]
  },
  {
   "cell_type": "code",
   "execution_count": 8,
   "id": "c6a44176",
   "metadata": {},
   "outputs": [
    {
     "name": "stdout",
     "output_type": "stream",
     "text": [
      "9\n",
      "https://centreculturelrosporden.bzh/spectacles/soiree-de-concerts-rap-electro-don-gabo-et-kreg-el-maout-iffick-et-soeig/\n"
     ]
    }
   ],
   "source": [
    "# Extrait de la liste des URL pour vérification\n",
    "print(len(extractedALinks))\n",
    "linksList=[]\n",
    "for el in extractedALinks:\n",
    "    linksList.append(el.get('href'))\n",
    "print(linksList[0])"
   ]
  },
  {
   "cell_type": "code",
   "execution_count": 9,
   "id": "224d1e6f",
   "metadata": {},
   "outputs": [],
   "source": [
    "\n",
    "# Mise à jour des URLs si un scrap existe déjà\n",
    "if os.path.exists(JsonFolder + JsonName):\n",
    "    df_existing = pd.read_json(JsonFolder + JsonName)\n",
    "    if columnUrlName in df_existing.columns:\n",
    "        existingUrls = df_existing[columnUrlName].tolist()\n",
    "        \n",
    "        urlsManquantes = [url for url in linksList if url not in existingUrls]\n",
    "        for url in urlsManquantes:\n",
    "            print(f\"L'URL' '{url}' n'est pas présent dans le fichier JSON du précédent Scrap ! Il sera ajouté.\")\n",
    "        \n",
    "        # Ajouter les nouvelles entrées si des noms sont manquants\n",
    "        if urlsManquantes:\n",
    "            dfNewUrls = pd.DataFrame(urlsManquantes, columns=[columnUrlName])\n",
    "            df_Events = pd.concat([df_existing, dfNewUrls])\n",
    "        else:\n",
    "            df_Events = df_existing\n",
    "            dfNewUrls = pd.DataFrame()\n",
    "    # Backup JSON File\n",
    "    dateNow=datetime.datetime.now().strftime(\"%Y-%m-%d_%H:%M\")\n",
    "    os.rename(JsonFolder + JsonName, JsonFolder + dateNow + \"_\"+ JsonName + \".BAK\")\n",
    "# Sinon création de la liste des events\n",
    "else: df_Events = pd.DataFrame(linksList, columns=[columnUrlName])\n"
   ]
  },
  {
   "cell_type": "code",
   "execution_count": 15,
   "id": "8b355afa",
   "metadata": {},
   "outputs": [],
   "source": [
    "# Sauvegarde en JSON\n",
    "\n",
    "## NB:\n",
    "## json.dump has better formatting & don't escape / in \\/  but it doesn't  replace NaN by null\n",
    "df_Events.to_json(JsonFolder + JsonName, orient=\"records\", force_ascii=False)\n",
    "with open(JsonFolder + JsonName) as json_file:\n",
    "    events = json.load(json_file)\n",
    "json.dump(events, open(JsonFolder + JsonName, \"w\"), indent=4)\n"
   ]
  },
  {
   "cell_type": "code",
   "execution_count": 11,
   "id": "f1dd0fca",
   "metadata": {},
   "outputs": [],
   "source": [
    "## To DO :  filtre des events selon critères\n",
    "##          customisation selon les besoins\n",
    "# for event in list_of_events_url:\n",
    "#     if event.get('url') == \"machin\"\n"
   ]
  },
  {
   "cell_type": "code",
   "execution_count": 12,
   "id": "05a4ea02",
   "metadata": {},
   "outputs": [],
   "source": [
    "# Vars to collect data from an single event webpage\n",
    "\n",
    "nameSelector = \"#page > section.jumbotron.principal > div h1\"\n",
    "longDescriptionSelector = \"#page > section.jumbotron.principal > div > div.col-md-9.col-sm-9.col-xs-12.col-md-offset-0 > p\"\n",
    "descriptionSelector =\"#page > section.jumbotron.principal > div > div.col-md-9.col-sm-9.col-xs-12.col-md-offset-0 > p:nth-child(3)\"\n",
    "dateSelector = \"#page > section.jumbotron.principal > div h3\""
   ]
  },
  {
   "cell_type": "code",
   "execution_count": null,
   "id": "c76d8bfe",
   "metadata": {},
   "outputs": [
    {
     "name": "stdout",
     "output_type": "stream",
     "text": [
      "https://centreculturelrosporden.bzh/spectacles/soiree-de-concerts-rap-electro-don-gabo-et-kreg-el-maout-iffick-et-soeig/\n",
      "\n",
      "start_date is None\n",
      "https://centreculturelrosporden.bzh/spectacles/emily-loizeau-la-souterraine/\n",
      "\n",
      "start_date is None\n",
      "https://centreculturelrosporden.bzh/spectacles/titi-tombe-titi-tombe-pas-compagnie-pascal-rousseau/\n",
      "\n",
      "start_date is None\n",
      "https://centreculturelrosporden.bzh/spectacles/on-disait-quon-faisait-la-fete-fanny-ruwet/\n",
      "\n",
      "start_date is None\n",
      "https://centreculturelrosporden.bzh/spectacles/numero-dys-compagnie-la-rigole/\n",
      "\n",
      "start_date is None\n",
      "https://centreculturelrosporden.bzh/spectacles/je-suis-tigre-groupe-noces-florence-bernad/\n",
      "\n",
      "start_date is None\n",
      "https://centreculturelrosporden.bzh/spectacles/vivaldi-et-venise-ensemble-amalthee/\n",
      "\n",
      "start_date is None\n",
      "https://centreculturelrosporden.bzh/spectacles/truc/\n",
      "\n"
     ]
    }
   ],
   "source": [
    "for index, event in df_Events.iterrows():\n",
    "    try :\n",
    "        print(event['UrlEvent'])\n",
    "        event['name']= get_string_from_webpage(event['UrlEvent'], nameSelector)\n",
    "        print(event['name'])\n",
    "        event['longDescription']=get_string_from_webpage(event['UrlEvent'],longDescriptionSelector) # Description longue\n",
    "        event['description']=get_string_from_webpage(event['UrlEvent'],descriptionSelector) # Description courte\n",
    "        # Date et heure\n",
    "        dateText=get_string_from_webpage(event['UrlEvent'],dateSelector) # Date et heure de début\n",
    "        date_begin=get_datetime_from_text(dateText)\n",
    "        event['date_begin']=date_begin\n",
    "        duree= \"2h\"\n",
    "        date_end=get_end_date(date_begin, duree)\n",
    "        event['date_end']=date_end\n",
    "        locationText= \"Centre culturel de Rosporden\"\n",
    "        location_uid =  get_or_create_oa_location(locationText)\n",
    "    except Exception as e:\n",
    "        print(e)\n",
    "    \n",
    "    # imgTag= 'data-lazy-src'\n",
    "    # imageURL = get_image_from_webpage(url = event['UrlEvent'],\n",
    "    #                         selector = imageSelector,\n",
    "    #                         imgTag= imgTag,\n",
    "    #                         path = None,\n",
    "    #                         )\n",
    "    "
   ]
  },
  {
   "cell_type": "code",
   "execution_count": null,
   "id": "7ce2170d",
   "metadata": {},
   "outputs": [],
   "source": [
    "# TO DO : Check data values :\n",
    "# - date_begin < date_end\n",
    "# - date_end & date_begin in 2024 or 2025\n",
    "# - location_uid not null\n",
    "# - len(name, summary, description )> 5\n"
   ]
  },
  {
   "cell_type": "code",
   "execution_count": null,
   "id": "e60f2dfe",
   "metadata": {},
   "outputs": [],
   "source": [
    "# Post events\n",
    "for index, event in df_Events.iterrows():\n",
    "        if date_begin > datetime.datetime.now():\n",
    "                eventOA= {\n",
    "                        \"uid-externe\": \"import\" + \"-\" + slugify(event['name']),\n",
    "                        \"title\": { \"fr\": event['name'] ,\n",
    "                                \"en\": event['name'] } ,\n",
    "                        \"summary\": { \"fr\": event['summary'] },\n",
    "                        \"description\": { \"fr\": event['description'], \"en\": event['description']  },\n",
    "                        \"locationUid\": int(event['location_uid']),\n",
    "                        \"links\": event['UrlEvent'],\n",
    "                        \"longDescription\": event['longDescription'] ,   \n",
    "                        \"keywords\": { \"fr\": [\"CapDanseEvent\", \"CapDanse\", \"danse\"] },\n",
    "                        \"timings\": [\n",
    "                                {\n",
    "                                \"begin\": date_begin.isoformat(),\n",
    "                                \"end\": date_end.isoformat()\n",
    "                                },\n",
    "                                ],\n",
    "                        \"attendanceMode\": 3,\n",
    "                        \"onlineAccessLink\": event['UrlEvent']\n",
    "                }\n",
    "                \n",
    "                if event['UID'] is not None:\n",
    "                        UID = patch_event(access_token,event['UID'],eventOA)\n",
    "                else:\n",
    "                        UID = create_event(access_token,eventOA)\n",
    "                        event['UID'] = UID\n",
    "\n",
    "# Save result\n",
    "df_Events.to_json(JsonFolder + JsonName, orient=\"records\", force_ascii=False)\n",
    "with open(JsonFolder + JsonName) as json_file:\n",
    "        events = json.load(json_file)\n",
    "json.dump(events, open(JsonFolder + JsonName, \"w\"), indent=4)\n"
   ]
  }
 ],
 "metadata": {
  "kernelspec": {
   "display_name": "base",
   "language": "python",
   "name": "python3"
  },
  "language_info": {
   "codemirror_mode": {
    "name": "ipython",
    "version": 3
   },
   "file_extension": ".py",
   "mimetype": "text/x-python",
   "name": "python",
   "nbconvert_exporter": "python",
   "pygments_lexer": "ipython3",
   "version": "3.12.2"
  }
 },
 "nbformat": 4,
 "nbformat_minor": 5
}
